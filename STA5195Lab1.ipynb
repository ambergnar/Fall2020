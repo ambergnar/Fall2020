{
  "nbformat": 4,
  "nbformat_minor": 0,
  "metadata": {
    "colab": {
      "name": "STA5195Lab1.ipynb",
      "provenance": [],
      "collapsed_sections": [],
      "authorship_tag": "ABX9TyO9BDC99JdDdrMi1OHdEEzK",
      "include_colab_link": true
    },
    "kernelspec": {
      "name": "python3",
      "display_name": "Python 3"
    },
    "accelerator": "GPU"
  },
  "cells": [
    {
      "cell_type": "markdown",
      "metadata": {
        "id": "view-in-github",
        "colab_type": "text"
      },
      "source": [
        "<a href=\"https://colab.research.google.com/github/ambergnar/Fall2020/blob/master/STA5195Lab1.ipynb\" target=\"_parent\"><img src=\"https://colab.research.google.com/assets/colab-badge.svg\" alt=\"Open In Colab\"/></a>"
      ]
    },
    {
      "cell_type": "markdown",
      "metadata": {
        "id": "41nFqT4tXy-m"
      },
      "source": [
        "INTRO\n"
      ]
    },
    {
      "cell_type": "code",
      "metadata": {
        "colab": {
          "base_uri": "https://localhost:8080/"
        },
        "id": "I3ttloRzXdNc",
        "outputId": "f09c4cf0-3412-4a8d-88e0-52c1c5b068b5"
      },
      "source": [
        "print('Hello World')"
      ],
      "execution_count": 1,
      "outputs": [
        {
          "output_type": "stream",
          "text": [
            "Hello World\n"
          ],
          "name": "stdout"
        }
      ]
    },
    {
      "cell_type": "code",
      "metadata": {
        "id": "5Zm4sqQnYNpB"
      },
      "source": [
        "2+3"
      ],
      "execution_count": null,
      "outputs": []
    },
    {
      "cell_type": "code",
      "metadata": {
        "colab": {
          "base_uri": "https://localhost:8080/"
        },
        "id": "j6bXEf3XYRPf",
        "outputId": "0945d2ef-e88c-4104-a31c-1846acd81988"
      },
      "source": [
        "3>2"
      ],
      "execution_count": 2,
      "outputs": [
        {
          "output_type": "execute_result",
          "data": {
            "text/plain": [
              "True"
            ]
          },
          "metadata": {
            "tags": []
          },
          "execution_count": 2
        }
      ]
    },
    {
      "cell_type": "code",
      "metadata": {
        "id": "HVpG2w2iYWbu"
      },
      "source": [
        "# This is a comment"
      ],
      "execution_count": 3,
      "outputs": []
    },
    {
      "cell_type": "code",
      "metadata": {
        "colab": {
          "base_uri": "https://localhost:8080/",
          "height": 37
        },
        "id": "b8U7pq3oYbVy",
        "outputId": "db926501-63e8-480e-d93f-49915a785911"
      },
      "source": [
        "'''\n",
        "This is also a comment\n",
        "'''"
      ],
      "execution_count": 5,
      "outputs": [
        {
          "output_type": "execute_result",
          "data": {
            "application/vnd.google.colaboratory.intrinsic+json": {
              "type": "string"
            },
            "text/plain": [
              "'\\nThis is also a comment\\n'"
            ]
          },
          "metadata": {
            "tags": []
          },
          "execution_count": 5
        }
      ]
    },
    {
      "cell_type": "markdown",
      "metadata": {
        "id": "hums6ArLYpdF"
      },
      "source": [
        "VARIABLES"
      ]
    },
    {
      "cell_type": "code",
      "metadata": {
        "id": "GVe4_on4Ys5z"
      },
      "source": [
        "userAge = 0"
      ],
      "execution_count": 6,
      "outputs": []
    },
    {
      "cell_type": "code",
      "metadata": {
        "id": "7k_7oFdqYy95"
      },
      "source": [
        "userAge, userName = 30, 'Peter'"
      ],
      "execution_count": 7,
      "outputs": []
    },
    {
      "cell_type": "code",
      "metadata": {
        "id": "q_OtFGURY53H"
      },
      "source": [
        "# or, this is equivalent to:\n",
        "userAge = 30\n",
        "userName = 'Peter'"
      ],
      "execution_count": 8,
      "outputs": []
    },
    {
      "cell_type": "code",
      "metadata": {
        "id": "5Dy5CfcQZDWc"
      },
      "source": [
        ""
      ],
      "execution_count": null,
      "outputs": []
    },
    {
      "cell_type": "markdown",
      "metadata": {
        "id": "Rtg7-IrwZNoL"
      },
      "source": [
        "ASSIGNMENT SIGN"
      ]
    },
    {
      "cell_type": "code",
      "metadata": {
        "colab": {
          "base_uri": "https://localhost:8080/"
        },
        "id": "bHj2s-hFZQTj",
        "outputId": "d3c2e84b-6207-42ca-ac58-ec9f9f0bc216"
      },
      "source": [
        "# x=y and y=x have different meanings\n",
        "x=5\n",
        "y=10\n",
        "x=y\n",
        "print(\"x=\",x)\n",
        "print(\"y=\",y)"
      ],
      "execution_count": 11,
      "outputs": [
        {
          "output_type": "stream",
          "text": [
            "x= 10\n",
            "y= 10\n"
          ],
          "name": "stdout"
        }
      ]
    },
    {
      "cell_type": "code",
      "metadata": {
        "colab": {
          "base_uri": "https://localhost:8080/"
        },
        "id": "SUAXT-I9Zlxd",
        "outputId": "c5539ec5-4446-4fb9-bd9c-b1285d4801ca"
      },
      "source": [
        "# change 3rd line from x=y to y=x:\n",
        "x=5\n",
        "y=10\n",
        "y=x\n",
        "print(\"x=\",x)\n",
        "print(\"y=\",y)"
      ],
      "execution_count": 12,
      "outputs": [
        {
          "output_type": "stream",
          "text": [
            "x= 5\n",
            "y= 5\n"
          ],
          "name": "stdout"
        }
      ]
    },
    {
      "cell_type": "markdown",
      "metadata": {
        "id": "v32Z_xQvZ77z"
      },
      "source": [
        "BASIC OPERATORS"
      ]
    },
    {
      "cell_type": "code",
      "metadata": {
        "id": "v4opqhGbZ5g2"
      },
      "source": [
        "# Suppose:\n",
        "x=5\n",
        "y=2"
      ],
      "execution_count": 13,
      "outputs": []
    },
    {
      "cell_type": "code",
      "metadata": {
        "colab": {
          "base_uri": "https://localhost:8080/"
        },
        "id": "FxvMj49EZ-GT",
        "outputId": "20859d87-a90a-4133-a7e1-11768ddd105d"
      },
      "source": [
        "# Addition:\n",
        "x+y"
      ],
      "execution_count": 14,
      "outputs": [
        {
          "output_type": "execute_result",
          "data": {
            "text/plain": [
              "7"
            ]
          },
          "metadata": {
            "tags": []
          },
          "execution_count": 14
        }
      ]
    },
    {
      "cell_type": "code",
      "metadata": {
        "colab": {
          "base_uri": "https://localhost:8080/"
        },
        "id": "FVkCxPKuaQTl",
        "outputId": "f28185e1-d911-44c4-a17c-0ab923d5d6ce"
      },
      "source": [
        "# Subtraction:\n",
        "x-y"
      ],
      "execution_count": 15,
      "outputs": [
        {
          "output_type": "execute_result",
          "data": {
            "text/plain": [
              "3"
            ]
          },
          "metadata": {
            "tags": []
          },
          "execution_count": 15
        }
      ]
    },
    {
      "cell_type": "code",
      "metadata": {
        "colab": {
          "base_uri": "https://localhost:8080/"
        },
        "id": "P0R55rFmaTEe",
        "outputId": "3a1e43fa-c228-42bd-c171-84323c219f6f"
      },
      "source": [
        "# Multiplication:\n",
        "x*y"
      ],
      "execution_count": 16,
      "outputs": [
        {
          "output_type": "execute_result",
          "data": {
            "text/plain": [
              "10"
            ]
          },
          "metadata": {
            "tags": []
          },
          "execution_count": 16
        }
      ]
    },
    {
      "cell_type": "code",
      "metadata": {
        "colab": {
          "base_uri": "https://localhost:8080/"
        },
        "id": "P0dHxrmpaY38",
        "outputId": "78c26089-2e97-4993-af56-127e1b19e3bc"
      },
      "source": [
        "# Division:\n",
        "x/y"
      ],
      "execution_count": 17,
      "outputs": [
        {
          "output_type": "execute_result",
          "data": {
            "text/plain": [
              "2.5"
            ]
          },
          "metadata": {
            "tags": []
          },
          "execution_count": 17
        }
      ]
    },
    {
      "cell_type": "code",
      "metadata": {
        "colab": {
          "base_uri": "https://localhost:8080/"
        },
        "id": "NXF9SMqmabY0",
        "outputId": "0856c6b0-2deb-4ee9-f062-3879d612cd26"
      },
      "source": [
        "# Floor Division (rounds down to nearest integer):\n",
        "x//y"
      ],
      "execution_count": 18,
      "outputs": [
        {
          "output_type": "execute_result",
          "data": {
            "text/plain": [
              "2"
            ]
          },
          "metadata": {
            "tags": []
          },
          "execution_count": 18
        }
      ]
    },
    {
      "cell_type": "code",
      "metadata": {
        "colab": {
          "base_uri": "https://localhost:8080/"
        },
        "id": "ndQb5skaaiPF",
        "outputId": "43f9ce2a-ae92-439e-8406-38f4e3fd553d"
      },
      "source": [
        "# Modulus (gives remainder when 5 is divided by 2):\n",
        "x%y"
      ],
      "execution_count": 19,
      "outputs": [
        {
          "output_type": "execute_result",
          "data": {
            "text/plain": [
              "1"
            ]
          },
          "metadata": {
            "tags": []
          },
          "execution_count": 19
        }
      ]
    },
    {
      "cell_type": "code",
      "metadata": {
        "colab": {
          "base_uri": "https://localhost:8080/"
        },
        "id": "Ce7DpBivaoQc",
        "outputId": "0a14335e-faa4-40ff-e654-fe8bfecb11c5"
      },
      "source": [
        "# Exponent:\n",
        "x**y"
      ],
      "execution_count": 20,
      "outputs": [
        {
          "output_type": "execute_result",
          "data": {
            "text/plain": [
              "25"
            ]
          },
          "metadata": {
            "tags": []
          },
          "execution_count": 20
        }
      ]
    },
    {
      "cell_type": "markdown",
      "metadata": {
        "id": "kknU2Om9a75l"
      },
      "source": [
        "MORE ASSIGNMENT OPERATORORS"
      ]
    },
    {
      "cell_type": "code",
      "metadata": {
        "id": "y8H1OMZMaspk"
      },
      "source": [
        "# Suppose:\n",
        "x=10"
      ],
      "execution_count": 21,
      "outputs": []
    },
    {
      "cell_type": "code",
      "metadata": {
        "id": "ipTsx3FSbA1J"
      },
      "source": [
        "# Then, increment by 2:\n",
        "x=x+2"
      ],
      "execution_count": 22,
      "outputs": []
    },
    {
      "cell_type": "code",
      "metadata": {
        "id": "FWRrJOqCbXKf"
      },
      "source": [
        "# Or:\n",
        "x+=2"
      ],
      "execution_count": 23,
      "outputs": []
    },
    {
      "cell_type": "markdown",
      "metadata": {
        "id": "nbU_2AzEbsQE"
      },
      "source": [
        "INTEGERS"
      ]
    },
    {
      "cell_type": "code",
      "metadata": {
        "id": "dktdmhEjbmuL"
      },
      "source": [
        "# To declare an integer, write: variableName = initial value"
      ],
      "execution_count": 24,
      "outputs": []
    },
    {
      "cell_type": "code",
      "metadata": {
        "id": "vIeRqOKVb3MX"
      },
      "source": [
        "# Example:\n",
        "mobileNumber=12398724"
      ],
      "execution_count": 27,
      "outputs": []
    },
    {
      "cell_type": "markdown",
      "metadata": {
        "id": "LNV9HD3BcGki"
      },
      "source": [
        "FLOAT"
      ]
    },
    {
      "cell_type": "code",
      "metadata": {
        "id": "rUBfNs6fb843"
      },
      "source": [
        "# To declare a float, write: variableName = initial value"
      ],
      "execution_count": 28,
      "outputs": []
    },
    {
      "cell_type": "code",
      "metadata": {
        "id": "F6UnF4F8cNpm"
      },
      "source": [
        "# Example:\n",
        "userWeight = 67.2"
      ],
      "execution_count": 29,
      "outputs": []
    },
    {
      "cell_type": "markdown",
      "metadata": {
        "id": "erjK9UFHcU9y"
      },
      "source": [
        "STRING"
      ]
    },
    {
      "cell_type": "code",
      "metadata": {
        "id": "enf26WW5cRJg"
      },
      "source": [
        "# To declare a string, write: variableName = 'initial value'\n",
        "# Or: variableName = \"initial value\""
      ],
      "execution_count": 30,
      "outputs": []
    },
    {
      "cell_type": "code",
      "metadata": {
        "id": "xld4YARUc4LV"
      },
      "source": [
        "# Example:\n",
        "userName = 'Peter'\n",
        "userSpousename = \"Janet\"\n",
        "userAge = '30'"
      ],
      "execution_count": 32,
      "outputs": []
    },
    {
      "cell_type": "code",
      "metadata": {
        "colab": {
          "base_uri": "https://localhost:8080/",
          "height": 37
        },
        "id": "auNlhci6dCxu",
        "outputId": "a97b55be-c067-4c88-f327-8a8d58ac9d53"
      },
      "source": [
        "# Capitalize function:\n",
        "'Peter'.upper()"
      ],
      "execution_count": 33,
      "outputs": [
        {
          "output_type": "execute_result",
          "data": {
            "application/vnd.google.colaboratory.intrinsic+json": {
              "type": "string"
            },
            "text/plain": [
              "'PETER'"
            ]
          },
          "metadata": {
            "tags": []
          },
          "execution_count": 33
        }
      ]
    },
    {
      "cell_type": "code",
      "metadata": {
        "colab": {
          "base_uri": "https://localhost:8080/",
          "height": 37
        },
        "id": "OFrWfAS3dRR9",
        "outputId": "fffc6e18-41e8-4fc8-810f-67036e6c169a"
      },
      "source": [
        "userName.upper()"
      ],
      "execution_count": 34,
      "outputs": [
        {
          "output_type": "execute_result",
          "data": {
            "application/vnd.google.colaboratory.intrinsic+json": {
              "type": "string"
            },
            "text/plain": [
              "'PETER'"
            ]
          },
          "metadata": {
            "tags": []
          },
          "execution_count": 34
        }
      ]
    },
    {
      "cell_type": "code",
      "metadata": {
        "id": "cAZz_jmgdU4-"
      },
      "source": [
        "# Formatting strings using the % operator:\n",
        "# \"string to be formated\" %(values or variables to be inserted into string, seperated by commas)"
      ],
      "execution_count": 35,
      "outputs": []
    },
    {
      "cell_type": "code",
      "metadata": {
        "id": "3_0WB2Gsd1Qy"
      },
      "source": [
        "# Example:\n",
        "brand = 'Apple'\n",
        "exchangeRate = 1.235235245\n",
        "message = 'The price of this %s laptop is %d USD and the exhange rate is %4.2f usd to 1 EUR' % (brand,1299,exchangeRate)"
      ],
      "execution_count": 36,
      "outputs": []
    },
    {
      "cell_type": "code",
      "metadata": {
        "colab": {
          "base_uri": "https://localhost:8080/"
        },
        "id": "z5g_-OoueSGA",
        "outputId": "642d3b33-b237-41dc-af3e-2aa6253f49d2"
      },
      "source": [
        "print(message)"
      ],
      "execution_count": 37,
      "outputs": [
        {
          "output_type": "stream",
          "text": [
            "The price of this Apple laptop is 1299 USD and the exhange rate is 1.24 usd to 1 EUR\n"
          ],
          "name": "stdout"
        }
      ]
    },
    {
      "cell_type": "code",
      "metadata": {
        "id": "VWygUFD0eUop"
      },
      "source": [
        "# Formating strings using the format() method:\n",
        "# instead of %s, %f, or %d, we use curly brackets"
      ],
      "execution_count": 39,
      "outputs": []
    },
    {
      "cell_type": "code",
      "metadata": {
        "id": "T6PGhrvmem0G"
      },
      "source": [
        "# Example:"
      ],
      "execution_count": 40,
      "outputs": []
    },
    {
      "cell_type": "code",
      "metadata": {
        "id": "takkCo92e2EG"
      },
      "source": [
        "message = 'The price of this {0:s} laptop is {1:d} USD and the exchange rate is {2:4.2f} USD to 1 EUR'.format('Apple',1299,1.2352352345)"
      ],
      "execution_count": 41,
      "outputs": []
    },
    {
      "cell_type": "code",
      "metadata": {
        "colab": {
          "base_uri": "https://localhost:8080/"
        },
        "id": "dJbwmG4kfVY8",
        "outputId": "fd4a6738-ee0a-485b-d231-567e162c2579"
      },
      "source": [
        "print(message)"
      ],
      "execution_count": 42,
      "outputs": [
        {
          "output_type": "stream",
          "text": [
            "The price of this Apple laptop is 1299 USD and the exchange rate is 1.24 USD to 1 EUR\n"
          ],
          "name": "stdout"
        }
      ]
    },
    {
      "cell_type": "markdown",
      "metadata": {
        "id": "O8H8iVOHf1Ix"
      },
      "source": [
        "TYPE CASTING IN PYTHON"
      ]
    },
    {
      "cell_type": "code",
      "metadata": {
        "colab": {
          "base_uri": "https://localhost:8080/",
          "height": 37
        },
        "id": "Pos1nmLzfZlv",
        "outputId": "4e819f8b-228b-484c-d4b7-c4f64f9a450f"
      },
      "source": [
        "# Three built-ins for type casting:\n",
        "int()\n",
        "float()\n",
        "str()"
      ],
      "execution_count": 43,
      "outputs": [
        {
          "output_type": "execute_result",
          "data": {
            "application/vnd.google.colaboratory.intrinsic+json": {
              "type": "string"
            },
            "text/plain": [
              "''"
            ]
          },
          "metadata": {
            "tags": []
          },
          "execution_count": 43
        }
      ]
    },
    {
      "cell_type": "code",
      "metadata": {
        "colab": {
          "base_uri": "https://localhost:8080/"
        },
        "id": "YpBmgHPvgCmB",
        "outputId": "4bb33cf2-a9ee-406f-db53-a8cb28e07ef0"
      },
      "source": [
        "# Example:\n",
        "int(5.712987)"
      ],
      "execution_count": 44,
      "outputs": [
        {
          "output_type": "execute_result",
          "data": {
            "text/plain": [
              "5"
            ]
          },
          "metadata": {
            "tags": []
          },
          "execution_count": 44
        }
      ]
    },
    {
      "cell_type": "code",
      "metadata": {
        "colab": {
          "base_uri": "https://localhost:8080/"
        },
        "id": "hGI4IeBIgL6_",
        "outputId": "7725206a-ae32-48ca-f43b-b2addb30cc37"
      },
      "source": [
        "# Example:\n",
        "float(2)"
      ],
      "execution_count": 45,
      "outputs": [
        {
          "output_type": "execute_result",
          "data": {
            "text/plain": [
              "2.0"
            ]
          },
          "metadata": {
            "tags": []
          },
          "execution_count": 45
        }
      ]
    },
    {
      "cell_type": "code",
      "metadata": {
        "colab": {
          "base_uri": "https://localhost:8080/",
          "height": 37
        },
        "id": "ucP5FvaAgQqm",
        "outputId": "63580a1b-5f86-432c-fca1-1658f50b64ba"
      },
      "source": [
        "# Example:\n",
        "str(2.1)"
      ],
      "execution_count": 46,
      "outputs": [
        {
          "output_type": "execute_result",
          "data": {
            "application/vnd.google.colaboratory.intrinsic+json": {
              "type": "string"
            },
            "text/plain": [
              "'2.1'"
            ]
          },
          "metadata": {
            "tags": []
          },
          "execution_count": 46
        }
      ]
    },
    {
      "cell_type": "markdown",
      "metadata": {
        "id": "KiavwL8_gWQj"
      },
      "source": [
        "LIST"
      ]
    },
    {
      "cell_type": "code",
      "metadata": {
        "id": "cbK5WIsbgUjr"
      },
      "source": [
        "# To declare a list, write listName = [initial values] (multiple values comma seperated)"
      ],
      "execution_count": 47,
      "outputs": []
    },
    {
      "cell_type": "code",
      "metadata": {
        "colab": {
          "base_uri": "https://localhost:8080/"
        },
        "id": "LDmdnezoghkj",
        "outputId": "1d00dd0b-3ffd-445d-a7f6-5424c419c2f8"
      },
      "source": [
        "# Example:\n",
        "userAge = [21,22,23,24,25]\n",
        "userAge"
      ],
      "execution_count": 52,
      "outputs": [
        {
          "output_type": "execute_result",
          "data": {
            "text/plain": [
              "[21, 22, 23, 24, 25]"
            ]
          },
          "metadata": {
            "tags": []
          },
          "execution_count": 52
        }
      ]
    },
    {
      "cell_type": "code",
      "metadata": {
        "colab": {
          "base_uri": "https://localhost:8080/"
        },
        "id": "LfsayzJ7g1DZ",
        "outputId": "95e29310-7768-4bb3-c2af-2202f4fd32a0"
      },
      "source": [
        "userAge[0]"
      ],
      "execution_count": 49,
      "outputs": [
        {
          "output_type": "execute_result",
          "data": {
            "text/plain": [
              "21"
            ]
          },
          "metadata": {
            "tags": []
          },
          "execution_count": 49
        }
      ]
    },
    {
      "cell_type": "code",
      "metadata": {
        "colab": {
          "base_uri": "https://localhost:8080/"
        },
        "id": "C27-xYvIg4L7",
        "outputId": "c39ba730-323a-47e6-bd41-da318ab891c5"
      },
      "source": [
        "userAge[1]"
      ],
      "execution_count": 50,
      "outputs": [
        {
          "output_type": "execute_result",
          "data": {
            "text/plain": [
              "22"
            ]
          },
          "metadata": {
            "tags": []
          },
          "execution_count": 50
        }
      ]
    },
    {
      "cell_type": "code",
      "metadata": {
        "colab": {
          "base_uri": "https://localhost:8080/"
        },
        "id": "lSrWoWyYg5h3",
        "outputId": "bc741435-88ae-476e-ce1f-d5c620ee7947"
      },
      "source": [
        "userAge[-1]"
      ],
      "execution_count": 51,
      "outputs": [
        {
          "output_type": "execute_result",
          "data": {
            "text/plain": [
              "25"
            ]
          },
          "metadata": {
            "tags": []
          },
          "execution_count": 51
        }
      ]
    },
    {
      "cell_type": "code",
      "metadata": {
        "colab": {
          "base_uri": "https://localhost:8080/"
        },
        "id": "zL4-zJ8jg8Kq",
        "outputId": "bc01d3a8-bdc8-4f27-c6cc-3fceb9133946"
      },
      "source": [
        "userAge[2:4]"
      ],
      "execution_count": 53,
      "outputs": [
        {
          "output_type": "execute_result",
          "data": {
            "text/plain": [
              "[23, 24]"
            ]
          },
          "metadata": {
            "tags": []
          },
          "execution_count": 53
        }
      ]
    },
    {
      "cell_type": "code",
      "metadata": {
        "colab": {
          "base_uri": "https://localhost:8080/"
        },
        "id": "6PWztNgIhBQT",
        "outputId": "da3ecce2-a222-4a4d-a394-45f3ebba3349"
      },
      "source": [
        "# To modify, write listName[index of item to be modified]=new value:\n",
        "userAge[1]=5\n",
        "userAge"
      ],
      "execution_count": 54,
      "outputs": [
        {
          "output_type": "execute_result",
          "data": {
            "text/plain": [
              "[21, 5, 23, 24, 25]"
            ]
          },
          "metadata": {
            "tags": []
          },
          "execution_count": 54
        }
      ]
    },
    {
      "cell_type": "code",
      "metadata": {
        "colab": {
          "base_uri": "https://localhost:8080/"
        },
        "id": "wBTXJpAbhuX6",
        "outputId": "a5f93bb1-efae-4e36-e7a1-8479c3f3de9b"
      },
      "source": [
        "# To add items, use append():\n",
        "userAge.append(99)\n",
        "userAge"
      ],
      "execution_count": 55,
      "outputs": [
        {
          "output_type": "execute_result",
          "data": {
            "text/plain": [
              "[21, 5, 23, 24, 25, 99]"
            ]
          },
          "metadata": {
            "tags": []
          },
          "execution_count": 55
        }
      ]
    },
    {
      "cell_type": "markdown",
      "metadata": {
        "id": "ZHxaz2ixiH67"
      },
      "source": [
        "TUPLE"
      ]
    },
    {
      "cell_type": "code",
      "metadata": {
        "id": "yucRqIzWh2mH"
      },
      "source": [
        "# Tuples are lists that can't be modified\n",
        "# To declare a tuple, write tupleName = (initial value)"
      ],
      "execution_count": 56,
      "outputs": []
    },
    {
      "cell_type": "code",
      "metadata": {
        "colab": {
          "base_uri": "https://localhost:8080/"
        },
        "id": "zh63kRRtiZUq",
        "outputId": "b270657a-0aa5-4154-abea-633871c6ffab"
      },
      "source": [
        "# Example:\n",
        "monthsOfYear = (\"Jan\",\"Feb\",\"Mar\",\"Apr\",\"May\",\"Jun\",\"Jul\",\"Aug\",\"Sep\",\"Oct\",\"Nov\",\"Dec\")\n",
        "monthsOfYear"
      ],
      "execution_count": 57,
      "outputs": [
        {
          "output_type": "execute_result",
          "data": {
            "text/plain": [
              "('Jan',\n",
              " 'Feb',\n",
              " 'Mar',\n",
              " 'Apr',\n",
              " 'May',\n",
              " 'Jun',\n",
              " 'Jul',\n",
              " 'Aug',\n",
              " 'Sep',\n",
              " 'Oct',\n",
              " 'Nov',\n",
              " 'Dec')"
            ]
          },
          "metadata": {
            "tags": []
          },
          "execution_count": 57
        }
      ]
    },
    {
      "cell_type": "code",
      "metadata": {
        "colab": {
          "base_uri": "https://localhost:8080/",
          "height": 37
        },
        "id": "zrBucSXWiro9",
        "outputId": "43ba49a8-fe1f-4d3e-c069-a7c9f6284d30"
      },
      "source": [
        "monthsOfYear[0]"
      ],
      "execution_count": 58,
      "outputs": [
        {
          "output_type": "execute_result",
          "data": {
            "application/vnd.google.colaboratory.intrinsic+json": {
              "type": "string"
            },
            "text/plain": [
              "'Jan'"
            ]
          },
          "metadata": {
            "tags": []
          },
          "execution_count": 58
        }
      ]
    },
    {
      "cell_type": "code",
      "metadata": {
        "colab": {
          "base_uri": "https://localhost:8080/",
          "height": 37
        },
        "id": "Cgm6fGi-ivcl",
        "outputId": "2f566f0f-be87-4aa3-87da-6e3f6455c639"
      },
      "source": [
        "monthsOfYear[-1]"
      ],
      "execution_count": 59,
      "outputs": [
        {
          "output_type": "execute_result",
          "data": {
            "application/vnd.google.colaboratory.intrinsic+json": {
              "type": "string"
            },
            "text/plain": [
              "'Dec'"
            ]
          },
          "metadata": {
            "tags": []
          },
          "execution_count": 59
        }
      ]
    },
    {
      "cell_type": "markdown",
      "metadata": {
        "id": "6XPKC1mbiyoy"
      },
      "source": [
        "DICTIONARY"
      ]
    },
    {
      "cell_type": "code",
      "metadata": {
        "id": "Wiu8_DSEixWq"
      },
      "source": [
        "# Dictionary is a collection of related PAIRS\n",
        "# To declare a dictionary, write dictionaryName={dictionary key:data}\n",
        "# (keys must be unique)"
      ],
      "execution_count": 60,
      "outputs": []
    },
    {
      "cell_type": "code",
      "metadata": {
        "colab": {
          "base_uri": "https://localhost:8080/"
        },
        "id": "rZWM72umjJy8",
        "outputId": "737e2489-e86a-42d1-870c-3dc9d2cdf9c3"
      },
      "source": [
        "# Example:\n",
        "userNameAndAge = {\"Peter\":38, \"John\":51, \"Alex\":13, \"Alvin\":\"Not Available\"}\n",
        "userNameAndAge"
      ],
      "execution_count": 61,
      "outputs": [
        {
          "output_type": "execute_result",
          "data": {
            "text/plain": [
              "{'Alex': 13, 'Alvin': 'Not Available', 'John': 51, 'Peter': 38}"
            ]
          },
          "metadata": {
            "tags": []
          },
          "execution_count": 61
        }
      ]
    },
    {
      "cell_type": "code",
      "metadata": {
        "colab": {
          "base_uri": "https://localhost:8080/"
        },
        "id": "aKC6XHQvjeH9",
        "outputId": "f1b6b600-6993-4d31-bb75-9c07d313acef"
      },
      "source": [
        "# Or:\n",
        "userNameAndAge = dict(Peter=38, John=51, Alex=13, Alvin=\"Not Available\")\n",
        "userNameAndAge"
      ],
      "execution_count": 63,
      "outputs": [
        {
          "output_type": "execute_result",
          "data": {
            "text/plain": [
              "{'Alex': 13, 'Alvin': 'Not Available', 'John': 51, 'Peter': 38}"
            ]
          },
          "metadata": {
            "tags": []
          },
          "execution_count": 63
        }
      ]
    },
    {
      "cell_type": "code",
      "metadata": {
        "colab": {
          "base_uri": "https://localhost:8080/"
        },
        "id": "S2UsM8L8joxa",
        "outputId": "6ec5df61-7065-4fce-b57a-1406dec340f3"
      },
      "source": [
        "# To access individual items, use dictionary key: {dictionary key:data}\n",
        "# Example to get John's age:\n",
        "userNameAndAge[\"John\"]"
      ],
      "execution_count": 64,
      "outputs": [
        {
          "output_type": "execute_result",
          "data": {
            "text/plain": [
              "51"
            ]
          },
          "metadata": {
            "tags": []
          },
          "execution_count": 64
        }
      ]
    },
    {
      "cell_type": "code",
      "metadata": {
        "id": "m2XPz5l_kLRP"
      },
      "source": [
        ""
      ],
      "execution_count": null,
      "outputs": []
    }
  ]
}