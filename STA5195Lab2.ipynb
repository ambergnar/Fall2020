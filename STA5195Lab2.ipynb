{
  "nbformat": 4,
  "nbformat_minor": 0,
  "metadata": {
    "colab": {
      "name": "STA5195Lab2.ipynb",
      "provenance": [],
      "authorship_tag": "ABX9TyP6JNlvJGUBiH3v6JyhNzZn",
      "include_colab_link": true
    },
    "kernelspec": {
      "name": "python3",
      "display_name": "Python 3"
    },
    "accelerator": "GPU"
  },
  "cells": [
    {
      "cell_type": "markdown",
      "metadata": {
        "id": "view-in-github",
        "colab_type": "text"
      },
      "source": [
        "<a href=\"https://colab.research.google.com/github/ambergnar/Fall2020/blob/master/STA5195Lab2.ipynb\" target=\"_parent\"><img src=\"https://colab.research.google.com/assets/colab-badge.svg\" alt=\"Open In Colab\"/></a>"
      ]
    },
    {
      "cell_type": "markdown",
      "metadata": {
        "id": "PIvaMLCLnEdh"
      },
      "source": [
        "BIOLOGY INTO MATH"
      ]
    },
    {
      "cell_type": "code",
      "metadata": {
        "colab": {
          "base_uri": "https://localhost:8080/"
        },
        "id": "1upkrxTgm4lF",
        "outputId": "74c287fa-54f3-43dc-a2c9-26b9851f3b7b"
      },
      "source": [
        "# Getting uniprot database:\n",
        "!pip install git+https://github.com/williamedwardhahn/mpcr\n",
        "from mpcr import *"
      ],
      "execution_count": 1,
      "outputs": [
        {
          "output_type": "stream",
          "text": [
            "Collecting git+https://github.com/williamedwardhahn/mpcr\n",
            "  Cloning https://github.com/williamedwardhahn/mpcr to /tmp/pip-req-build-aqgk6in0\n",
            "  Running command git clone -q https://github.com/williamedwardhahn/mpcr /tmp/pip-req-build-aqgk6in0\n",
            "Building wheels for collected packages: ImportMPCR\n",
            "  Building wheel for ImportMPCR (setup.py) ... \u001b[?25l\u001b[?25hdone\n",
            "  Created wheel for ImportMPCR: filename=ImportMPCR-0.0.1-cp36-none-any.whl size=7322 sha256=4ea66403bd8db74b3e35e830126863b31272c8075c1cd102dcc281373ee3ee62\n",
            "  Stored in directory: /tmp/pip-ephem-wheel-cache-h37w0q7k/wheels/89/93/47/ef43fe80a5b823a05d8dcca5ed1581f4fcdacf69b27110603f\n",
            "Successfully built ImportMPCR\n",
            "Installing collected packages: ImportMPCR\n",
            "Successfully installed ImportMPCR-0.0.1\n",
            "[nltk_data] Downloading package punkt to /root/nltk_data...\n",
            "[nltk_data]   Unzipping tokenizers/punkt.zip.\n"
          ],
          "name": "stdout"
        }
      ]
    },
    {
      "cell_type": "code",
      "metadata": {
        "id": "Wa5jKs_EnenP"
      },
      "source": [
        "# Create a dataset from the uniprot database:\n",
        "X, Y = get_uniprot_data('=antibody', '!antibody', 2000)"
      ],
      "execution_count": 2,
      "outputs": []
    },
    {
      "cell_type": "code",
      "metadata": {
        "id": "nlahZDULnt3A"
      },
      "source": [
        "number_X = len(X)\n",
        "number_Y = len(Y)"
      ],
      "execution_count": 3,
      "outputs": []
    },
    {
      "cell_type": "code",
      "metadata": {
        "colab": {
          "base_uri": "https://localhost:8080/"
        },
        "id": "WuVdMIwKnwhe",
        "outputId": "e9a1a5c2-e476-4503-9f30-d2b16b6734f1"
      },
      "source": [
        "print(number_X)\n",
        "print(number_Y)"
      ],
      "execution_count": 4,
      "outputs": [
        {
          "output_type": "stream",
          "text": [
            "2000\n",
            "2000\n"
          ],
          "name": "stdout"
        }
      ]
    },
    {
      "cell_type": "code",
      "metadata": {
        "colab": {
          "base_uri": "https://localhost:8080/",
          "height": 174
        },
        "id": "_R0NmNXKnyGP",
        "outputId": "f5f7157e-3d62-46c6-ee4a-5d657250d5b5"
      },
      "source": [
        "# Amino acid sequence of the first protein on the list of proteins associated with 'antibody'\n",
        "X[0]"
      ],
      "execution_count": 5,
      "outputs": [
        {
          "output_type": "execute_result",
          "data": {
            "application/vnd.google.colaboratory.intrinsic+json": {
              "type": "string"
            },
            "text/plain": [
              "'medidqsslvssstdspprpppafkyqfvtepedeedeeeeedeeeddedleelevlerkpaaglsaaavppaaaaplldfssdsvppaprgplpaappaaperqpswerspaapapslppaaavlpsklpeddepparppppppagasplaepaappstpaapkrrgsgsvdetlfalpaasepvipssaekimdlmeqpgntvssgqedfpsvlletaaslpslsplstvsfkehgylgnlsavsssegtieetlneaskelperatnpfvnrdlaefseleysemgssfkgspkgesailventkeevivrskdkedlvcsaalhspqespvgkedrvvspektmdifnemqmsvvapvreeyadfkpfeqawevkdtyegsrdvlaaranveskvdrkcledsleqkslgkdsegrnedasfpstpepvkdssrayitcasftsatesttantfplledhtsenktdekkieerkaqiitektspktsnpflvavqdseadyvttdtlskvteaavsnmpegltpdlvqeaceselneatgtkiayetkvdlvqtseaiqeslyptaqlcpsfeeaeatpspvlpdivmeaplnsllpsagasvvqpsvspleapppvsydsiklepenpppyeeamnvalkalgtkegikepesfnaavqeteapyisiacdliketklstepspdfsnyseiakfeksvpehaelvedsspesepvdlfsddsipevpqtqeeavmlmkesltevsetvaqhkeerlsaspqelgkpylesfqpnlhstkdaasndiptltkkekislqmeefntaiysnddllsskedkikesetfsdsspieiidefptfvsakddspklakeytdlevsdkseianiqsgadslpclelpcdlsfkniypkdevhvsdefsenrssvskasispsnvsalepqtemgsivksksltkeaekklpsdtekedrslsavlsaelsktsvvdllywrdikktgvvfgaslflllsltvfsivsvtayialallsvtisfriykgviqaiqksdeghpfraylesevaiseelvqkysnsalghvnstikelrrlflvddlvdslkfavlmwvftyvgalfngltllilalislfsipviyerhqvqidhylglanksvkdamakiqakipglkrkad'"
            ]
          },
          "metadata": {
            "tags": []
          },
          "execution_count": 5
        }
      ]
    },
    {
      "cell_type": "code",
      "metadata": {
        "id": "NeNtb7P6n6p3"
      },
      "source": [
        "# Convert protein strings of letters into vectors of numbers:\n",
        "def process_strings(c):\n",
        "    '''Takes in a list of sequences 'c' and turns each one\n",
        "       into a list of numbers.'''\n",
        "       \n",
        "    X = []\n",
        "            \n",
        "    for  m, seq in enumerate(c):\n",
        "        x = [] \n",
        "        for letter in seq:\n",
        "            x.append(max(ord(letter)-97, 0))\n",
        "        \n",
        "        X.append(x)\n",
        "        \n",
        "    return X"
      ],
      "execution_count": 6,
      "outputs": []
    },
    {
      "cell_type": "code",
      "metadata": {
        "id": "NqgPZdvDoHHr"
      },
      "source": [
        "X = process_strings(X)\n",
        "Y = process_strings(Y)"
      ],
      "execution_count": 7,
      "outputs": []
    },
    {
      "cell_type": "code",
      "metadata": {
        "colab": {
          "base_uri": "https://localhost:8080/"
        },
        "id": "zHNhIHGWoI2g",
        "outputId": "20fcfc20-eee3-40cb-f0ff-a7b033d55567"
      },
      "source": [
        "print(X[0])"
      ],
      "execution_count": 9,
      "outputs": [
        {
          "output_type": "stream",
          "text": [
            "[12, 4, 3, 8, 3, 16, 18, 18, 11, 21, 18, 18, 18, 19, 3, 18, 15, 15, 17, 15, 15, 15, 0, 5, 10, 24, 16, 5, 21, 19, 4, 15, 4, 3, 4, 4, 3, 4, 4, 4, 4, 4, 3, 4, 4, 4, 3, 3, 4, 3, 11, 4, 4, 11, 4, 21, 11, 4, 17, 10, 15, 0, 0, 6, 11, 18, 0, 0, 0, 21, 15, 15, 0, 0, 0, 0, 15, 11, 11, 3, 5, 18, 18, 3, 18, 21, 15, 15, 0, 15, 17, 6, 15, 11, 15, 0, 0, 15, 15, 0, 0, 15, 4, 17, 16, 15, 18, 22, 4, 17, 18, 15, 0, 0, 15, 0, 15, 18, 11, 15, 15, 0, 0, 0, 21, 11, 15, 18, 10, 11, 15, 4, 3, 3, 4, 15, 15, 0, 17, 15, 15, 15, 15, 15, 15, 0, 6, 0, 18, 15, 11, 0, 4, 15, 0, 0, 15, 15, 18, 19, 15, 0, 0, 15, 10, 17, 17, 6, 18, 6, 18, 21, 3, 4, 19, 11, 5, 0, 11, 15, 0, 0, 18, 4, 15, 21, 8, 15, 18, 18, 0, 4, 10, 8, 12, 3, 11, 12, 4, 16, 15, 6, 13, 19, 21, 18, 18, 6, 16, 4, 3, 5, 15, 18, 21, 11, 11, 4, 19, 0, 0, 18, 11, 15, 18, 11, 18, 15, 11, 18, 19, 21, 18, 5, 10, 4, 7, 6, 24, 11, 6, 13, 11, 18, 0, 21, 18, 18, 18, 4, 6, 19, 8, 4, 4, 19, 11, 13, 4, 0, 18, 10, 4, 11, 15, 4, 17, 0, 19, 13, 15, 5, 21, 13, 17, 3, 11, 0, 4, 5, 18, 4, 11, 4, 24, 18, 4, 12, 6, 18, 18, 5, 10, 6, 18, 15, 10, 6, 4, 18, 0, 8, 11, 21, 4, 13, 19, 10, 4, 4, 21, 8, 21, 17, 18, 10, 3, 10, 4, 3, 11, 21, 2, 18, 0, 0, 11, 7, 18, 15, 16, 4, 18, 15, 21, 6, 10, 4, 3, 17, 21, 21, 18, 15, 4, 10, 19, 12, 3, 8, 5, 13, 4, 12, 16, 12, 18, 21, 21, 0, 15, 21, 17, 4, 4, 24, 0, 3, 5, 10, 15, 5, 4, 16, 0, 22, 4, 21, 10, 3, 19, 24, 4, 6, 18, 17, 3, 21, 11, 0, 0, 17, 0, 13, 21, 4, 18, 10, 21, 3, 17, 10, 2, 11, 4, 3, 18, 11, 4, 16, 10, 18, 11, 6, 10, 3, 18, 4, 6, 17, 13, 4, 3, 0, 18, 5, 15, 18, 19, 15, 4, 15, 21, 10, 3, 18, 18, 17, 0, 24, 8, 19, 2, 0, 18, 5, 19, 18, 0, 19, 4, 18, 19, 19, 0, 13, 19, 5, 15, 11, 11, 4, 3, 7, 19, 18, 4, 13, 10, 19, 3, 4, 10, 10, 8, 4, 4, 17, 10, 0, 16, 8, 8, 19, 4, 10, 19, 18, 15, 10, 19, 18, 13, 15, 5, 11, 21, 0, 21, 16, 3, 18, 4, 0, 3, 24, 21, 19, 19, 3, 19, 11, 18, 10, 21, 19, 4, 0, 0, 21, 18, 13, 12, 15, 4, 6, 11, 19, 15, 3, 11, 21, 16, 4, 0, 2, 4, 18, 4, 11, 13, 4, 0, 19, 6, 19, 10, 8, 0, 24, 4, 19, 10, 21, 3, 11, 21, 16, 19, 18, 4, 0, 8, 16, 4, 18, 11, 24, 15, 19, 0, 16, 11, 2, 15, 18, 5, 4, 4, 0, 4, 0, 19, 15, 18, 15, 21, 11, 15, 3, 8, 21, 12, 4, 0, 15, 11, 13, 18, 11, 11, 15, 18, 0, 6, 0, 18, 21, 21, 16, 15, 18, 21, 18, 15, 11, 4, 0, 15, 15, 15, 21, 18, 24, 3, 18, 8, 10, 11, 4, 15, 4, 13, 15, 15, 15, 24, 4, 4, 0, 12, 13, 21, 0, 11, 10, 0, 11, 6, 19, 10, 4, 6, 8, 10, 4, 15, 4, 18, 5, 13, 0, 0, 21, 16, 4, 19, 4, 0, 15, 24, 8, 18, 8, 0, 2, 3, 11, 8, 10, 4, 19, 10, 11, 18, 19, 4, 15, 18, 15, 3, 5, 18, 13, 24, 18, 4, 8, 0, 10, 5, 4, 10, 18, 21, 15, 4, 7, 0, 4, 11, 21, 4, 3, 18, 18, 15, 4, 18, 4, 15, 21, 3, 11, 5, 18, 3, 3, 18, 8, 15, 4, 21, 15, 16, 19, 16, 4, 4, 0, 21, 12, 11, 12, 10, 4, 18, 11, 19, 4, 21, 18, 4, 19, 21, 0, 16, 7, 10, 4, 4, 17, 11, 18, 0, 18, 15, 16, 4, 11, 6, 10, 15, 24, 11, 4, 18, 5, 16, 15, 13, 11, 7, 18, 19, 10, 3, 0, 0, 18, 13, 3, 8, 15, 19, 11, 19, 10, 10, 4, 10, 8, 18, 11, 16, 12, 4, 4, 5, 13, 19, 0, 8, 24, 18, 13, 3, 3, 11, 11, 18, 18, 10, 4, 3, 10, 8, 10, 4, 18, 4, 19, 5, 18, 3, 18, 18, 15, 8, 4, 8, 8, 3, 4, 5, 15, 19, 5, 21, 18, 0, 10, 3, 3, 18, 15, 10, 11, 0, 10, 4, 24, 19, 3, 11, 4, 21, 18, 3, 10, 18, 4, 8, 0, 13, 8, 16, 18, 6, 0, 3, 18, 11, 15, 2, 11, 4, 11, 15, 2, 3, 11, 18, 5, 10, 13, 8, 24, 15, 10, 3, 4, 21, 7, 21, 18, 3, 4, 5, 18, 4, 13, 17, 18, 18, 21, 18, 10, 0, 18, 8, 18, 15, 18, 13, 21, 18, 0, 11, 4, 15, 16, 19, 4, 12, 6, 18, 8, 21, 10, 18, 10, 18, 11, 19, 10, 4, 0, 4, 10, 10, 11, 15, 18, 3, 19, 4, 10, 4, 3, 17, 18, 11, 18, 0, 21, 11, 18, 0, 4, 11, 18, 10, 19, 18, 21, 21, 3, 11, 11, 24, 22, 17, 3, 8, 10, 10, 19, 6, 21, 21, 5, 6, 0, 18, 11, 5, 11, 11, 11, 18, 11, 19, 21, 5, 18, 8, 21, 18, 21, 19, 0, 24, 8, 0, 11, 0, 11, 11, 18, 21, 19, 8, 18, 5, 17, 8, 24, 10, 6, 21, 8, 16, 0, 8, 16, 10, 18, 3, 4, 6, 7, 15, 5, 17, 0, 24, 11, 4, 18, 4, 21, 0, 8, 18, 4, 4, 11, 21, 16, 10, 24, 18, 13, 18, 0, 11, 6, 7, 21, 13, 18, 19, 8, 10, 4, 11, 17, 17, 11, 5, 11, 21, 3, 3, 11, 21, 3, 18, 11, 10, 5, 0, 21, 11, 12, 22, 21, 5, 19, 24, 21, 6, 0, 11, 5, 13, 6, 11, 19, 11, 11, 8, 11, 0, 11, 8, 18, 11, 5, 18, 8, 15, 21, 8, 24, 4, 17, 7, 16, 21, 16, 8, 3, 7, 24, 11, 6, 11, 0, 13, 10, 18, 21, 10, 3, 0, 12, 0, 10, 8, 16, 0, 10, 8, 15, 6, 11, 10, 17, 10, 0, 3]\n"
          ],
          "name": "stdout"
        }
      ]
    },
    {
      "cell_type": "code",
      "metadata": {
        "colab": {
          "base_uri": "https://localhost:8080/"
        },
        "id": "TaL14dj0oMdZ",
        "outputId": "17968e6b-a8fa-488e-f0cd-342ec3494705"
      },
      "source": [
        "print(Y[0])"
      ],
      "execution_count": 10,
      "outputs": [
        {
          "output_type": "stream",
          "text": [
            "[12, 4, 0, 11, 21, 24, 19, 5, 11, 11, 21, 6, 19, 11, 6, 8, 8, 5, 5, 18, 8, 5, 5, 17, 3, 15, 15, 17, 12, 8, 10]\n"
          ],
          "name": "stdout"
        }
      ]
    },
    {
      "cell_type": "code",
      "metadata": {
        "colab": {
          "base_uri": "https://localhost:8080/",
          "height": 384
        },
        "id": "iOosQon2oNSW",
        "outputId": "5b5629a6-9f71-4bf4-81db-c2fcfd868c81"
      },
      "source": [
        "# Plot their distribution:\n",
        "plt.hist(X[0],25)"
      ],
      "execution_count": 11,
      "outputs": [
        {
          "output_type": "execute_result",
          "data": {
            "text/plain": [
              "(array([109.,   0.,   8.,  70., 139.,  38.,  34.,  11.,  49.,   0.,  75.,\n",
              "        106.,  16.,  31.,   0., 104.,  31.,  29., 144.,  61.,   0.,  79.,\n",
              "          4.,   0.,  25.]),\n",
              " array([ 0.  ,  0.96,  1.92,  2.88,  3.84,  4.8 ,  5.76,  6.72,  7.68,\n",
              "         8.64,  9.6 , 10.56, 11.52, 12.48, 13.44, 14.4 , 15.36, 16.32,\n",
              "        17.28, 18.24, 19.2 , 20.16, 21.12, 22.08, 23.04, 24.  ]),\n",
              " <a list of 25 Patch objects>)"
            ]
          },
          "metadata": {
            "tags": []
          },
          "execution_count": 11
        },
        {
          "output_type": "display_data",
          "data": {
            "image/png": "[encoded data removed]",
            "text/plain": [
              "<Figure size 432x288 with 1 Axes>"
            ]
          },
          "metadata": {
            "tags": [],
            "needs_background": "light"
          }
        }
      ]
    },
    {
      "cell_type": "code",
      "metadata": {
        "colab": {
          "base_uri": "https://localhost:8080/",
          "height": 367
        },
        "id": "IHHqHj6PoTdz",
        "outputId": "9252c1d3-66a1-4934-aaa2-ea65da29fbe7"
      },
      "source": [
        "plt.hist(Y[0],25)"
      ],
      "execution_count": 12,
      "outputs": [
        {
          "output_type": "execute_result",
          "data": {
            "text/plain": [
              "(array([1., 0., 0., 1., 1., 5., 2., 0., 4., 0., 1., 4., 2., 0., 0., 2., 0.,\n",
              "        2., 1., 2., 0., 2., 0., 0., 1.]),\n",
              " array([ 0.  ,  0.96,  1.92,  2.88,  3.84,  4.8 ,  5.76,  6.72,  7.68,\n",
              "         8.64,  9.6 , 10.56, 11.52, 12.48, 13.44, 14.4 , 15.36, 16.32,\n",
              "        17.28, 18.24, 19.2 , 20.16, 21.12, 22.08, 23.04, 24.  ]),\n",
              " <a list of 25 Patch objects>)"
            ]
          },
          "metadata": {
            "tags": []
          },
          "execution_count": 12
        },
        {
          "output_type": "display_data",
          "data": {
            "image/png": "[encoded data removed]",
            "text/plain": [
              "<Figure size 432x288 with 1 Axes>"
            ]
          },
          "metadata": {
            "tags": [],
            "needs_background": "light"
          }
        }
      ]
    },
    {
      "cell_type": "code",
      "metadata": {
        "colab": {
          "base_uri": "https://localhost:8080/"
        },
        "id": "J3zmXeSRoVaI",
        "outputId": "909afb6d-bcb4-4d26-ca00-21fc734a981d"
      },
      "source": [
        "# Meaningful stats?\n",
        "np.mean(X[0]),np.std(X[0])"
      ],
      "execution_count": 13,
      "outputs": [
        {
          "output_type": "execute_result",
          "data": {
            "text/plain": [
              "(11.00859845227859, 6.89123922101607)"
            ]
          },
          "metadata": {
            "tags": []
          },
          "execution_count": 13
        }
      ]
    },
    {
      "cell_type": "code",
      "metadata": {
        "colab": {
          "base_uri": "https://localhost:8080/"
        },
        "id": "HM2O3YGKoev0",
        "outputId": "2ec2bcd1-985e-4d7e-9275-b79e4cb135ee"
      },
      "source": [
        "# Shape:\n",
        "np.array(X[0]).shape"
      ],
      "execution_count": 15,
      "outputs": [
        {
          "output_type": "execute_result",
          "data": {
            "text/plain": [
              "(1163,)"
            ]
          },
          "metadata": {
            "tags": []
          },
          "execution_count": 15
        }
      ]
    },
    {
      "cell_type": "code",
      "metadata": {
        "id": "xya7t_8RolKy"
      },
      "source": [
        "# Finding lengths of all protiens:\n",
        "X_lengths = [len(s) for s in X]\n",
        "Y_lengths = [len(s) for s in Y]"
      ],
      "execution_count": 16,
      "outputs": []
    },
    {
      "cell_type": "code",
      "metadata": {
        "colab": {
          "base_uri": "https://localhost:8080/"
        },
        "id": "329UDps7orvh",
        "outputId": "f98b088c-c248-4873-cf59-f11f0484fef9"
      },
      "source": [
        "np.max(X_lengths)"
      ],
      "execution_count": 17,
      "outputs": [
        {
          "output_type": "execute_result",
          "data": {
            "text/plain": [
              "5654"
            ]
          },
          "metadata": {
            "tags": []
          },
          "execution_count": 17
        }
      ]
    },
    {
      "cell_type": "code",
      "metadata": {
        "colab": {
          "base_uri": "https://localhost:8080/"
        },
        "id": "EcpsPhyhoulx",
        "outputId": "8bf1fa30-49ab-41d2-c4a9-091d00a31247"
      },
      "source": [
        "np.max(Y_lengths)"
      ],
      "execution_count": 18,
      "outputs": [
        {
          "output_type": "execute_result",
          "data": {
            "text/plain": [
              "6631"
            ]
          },
          "metadata": {
            "tags": []
          },
          "execution_count": 18
        }
      ]
    },
    {
      "cell_type": "code",
      "metadata": {
        "colab": {
          "base_uri": "https://localhost:8080/"
        },
        "id": "szv2XdXQovMv",
        "outputId": "e7f75584-c1f4-4b14-da00-2fe4cdf86d13"
      },
      "source": [
        "np.min(X_lengths)"
      ],
      "execution_count": 19,
      "outputs": [
        {
          "output_type": "execute_result",
          "data": {
            "text/plain": [
              "5"
            ]
          },
          "metadata": {
            "tags": []
          },
          "execution_count": 19
        }
      ]
    },
    {
      "cell_type": "code",
      "metadata": {
        "colab": {
          "base_uri": "https://localhost:8080/"
        },
        "id": "eWrjsV6Bown3",
        "outputId": "32207215-a9ba-4529-c15d-d25bf2f840cd"
      },
      "source": [
        "np.min(Y_lengths)"
      ],
      "execution_count": 20,
      "outputs": [
        {
          "output_type": "execute_result",
          "data": {
            "text/plain": [
              "6"
            ]
          },
          "metadata": {
            "tags": []
          },
          "execution_count": 20
        }
      ]
    },
    {
      "cell_type": "code",
      "metadata": {
        "colab": {
          "base_uri": "https://localhost:8080/",
          "height": 265
        },
        "id": "2jd4G5Y6oyVC",
        "outputId": "cda37a68-9610-4c7e-a800-2dee4db9c986"
      },
      "source": [
        "# Plot distributions:\n",
        "plt.hist(X_lengths,bins=1000,range=(0,5000));"
      ],
      "execution_count": 21,
      "outputs": [
        {
          "output_type": "display_data",
          "data": {
            "image/png": "[encoded data removed]",
            "text/plain": [
              "<Figure size 432x288 with 1 Axes>"
            ]
          },
          "metadata": {
            "tags": [],
            "needs_background": "light"
          }
        }
      ]
    },
    {
      "cell_type": "code",
      "metadata": {
        "colab": {
          "base_uri": "https://localhost:8080/",
          "height": 265
        },
        "id": "watatLKno4rk",
        "outputId": "a1b4e889-5612-414f-d08a-29ca90e39922"
      },
      "source": [
        "plt.hist(Y_lengths,bins=1000,range=(0,5000));"
      ],
      "execution_count": 22,
      "outputs": [
        {
          "output_type": "display_data",
          "data": {
            "image/png": "[encoded data removed]",
            "text/plain": [
              "<Figure size 432x288 with 1 Axes>"
            ]
          },
          "metadata": {
            "tags": [],
            "needs_background": "light"
          }
        }
      ]
    },
    {
      "cell_type": "code",
      "metadata": {
        "id": "mnQr6bA-o531"
      },
      "source": [
        ""
      ],
      "execution_count": null,
      "outputs": []
    }
  ]
}